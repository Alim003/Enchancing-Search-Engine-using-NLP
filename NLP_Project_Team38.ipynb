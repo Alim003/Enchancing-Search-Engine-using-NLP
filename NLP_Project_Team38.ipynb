{
  "nbformat": 4,
  "nbformat_minor": 0,
  "metadata": {
    "colab": {
      "provenance": []
    },
    "kernelspec": {
      "name": "python3",
      "display_name": "Python 3"
    },
    "language_info": {
      "name": "python"
    }
  },
  "cells": [
    {
      "cell_type": "code",
      "execution_count": 1,
      "metadata": {
        "id": "qCeFMhmZXngB"
      },
      "outputs": [],
      "source": [
        "#Let’s import all the libraries required\n",
        "#Data Manipulation\n",
        "import pandas as pd\n",
        "import numpy as np\n",
        "\n",
        "# Visualization\n",
        "import matplotlib.pyplot as plt\n",
        "import seaborn as sns"
      ]
    },
    {
      "cell_type": "code",
      "source": [
        "#NLP for text pre-processing\n",
        "import nltk\n",
        "import scipy\n",
        "import re\n",
        "from scipy import spatial\n",
        "from nltk.tokenize.toktok import ToktokTokenizer\n",
        "from nltk.corpus import stopwords\n",
        "from nltk.tokenize import sent_tokenize, word_tokenize\n",
        "from nltk.stem import PorterStemmer\n",
        "tokenizer = ToktokTokenizer()"
      ],
      "metadata": {
        "id": "tjehDvpzX8VX"
      },
      "execution_count": 2,
      "outputs": []
    },
    {
      "cell_type": "code",
      "source": [
        "# other libraries\n",
        "import gensim\n",
        "from gensim.models import Word2Vec\n",
        "import itertools\n",
        "from sklearn.feature_extraction.text import TfidfVectorizer\n",
        "from sklearn.decomposition import PCA"
      ],
      "metadata": {
        "id": "JkF8RLuVYAUi"
      },
      "execution_count": 3,
      "outputs": []
    },
    {
      "cell_type": "code",
      "source": [
        "# Import linear_kernel\n",
        "from sklearn.metrics.pairwise import linear_kernel"
      ],
      "metadata": {
        "id": "4Hc8REZlYCuv"
      },
      "execution_count": 4,
      "outputs": []
    },
    {
      "cell_type": "code",
      "source": [
        "# remove warnings\n",
        "import warnings\n",
        "warnings.filterwarnings(action = 'ignore')"
      ],
      "metadata": {
        "id": "83QpG1tcYFPJ"
      },
      "execution_count": 5,
      "outputs": []
    },
    {
      "cell_type": "code",
      "source": [
        "data=pd.read_csv(\"flipkart_com-ecommerce_sample.csv\")\n",
        "data.head()\n",
        "data.shape"
      ],
      "metadata": {
        "colab": {
          "base_uri": "https://localhost:8080/"
        },
        "id": "WA36OAZBYH36",
        "outputId": "82ac83ca-4346-477a-9243-683045fc6350"
      },
      "execution_count": 6,
      "outputs": [
        {
          "output_type": "execute_result",
          "data": {
            "text/plain": [
              "(20000, 15)"
            ]
          },
          "metadata": {},
          "execution_count": 6
        }
      ]
    },
    {
      "cell_type": "code",
      "source": [
        "data.info()"
      ],
      "metadata": {
        "colab": {
          "base_uri": "https://localhost:8080/"
        },
        "id": "FbJ-gEq4ZboC",
        "outputId": "db8f086e-c361-4df6-d2e5-0493a4cbbe40"
      },
      "execution_count": 7,
      "outputs": [
        {
          "output_type": "stream",
          "name": "stdout",
          "text": [
            "<class 'pandas.core.frame.DataFrame'>\n",
            "RangeIndex: 20000 entries, 0 to 19999\n",
            "Data columns (total 15 columns):\n",
            " #   Column                   Non-Null Count  Dtype  \n",
            "---  ------                   --------------  -----  \n",
            " 0   uniq_id                  20000 non-null  object \n",
            " 1   crawl_timestamp          20000 non-null  object \n",
            " 2   product_url              20000 non-null  object \n",
            " 3   product_name             20000 non-null  object \n",
            " 4   product_category_tree    20000 non-null  object \n",
            " 5   pid                      20000 non-null  object \n",
            " 6   retail_price             19922 non-null  float64\n",
            " 7   discounted_price         19922 non-null  float64\n",
            " 8   image                    19997 non-null  object \n",
            " 9   is_FK_Advantage_product  20000 non-null  bool   \n",
            " 10  description              19998 non-null  object \n",
            " 11  product_rating           20000 non-null  object \n",
            " 12  overall_rating           20000 non-null  object \n",
            " 13  brand                    14136 non-null  object \n",
            " 14  product_specifications   19986 non-null  object \n",
            "dtypes: bool(1), float64(2), object(12)\n",
            "memory usage: 2.2+ MB\n"
          ]
        }
      ]
    },
    {
      "cell_type": "code",
      "source": [
        "data['length']=data['description'].str.len()"
      ],
      "metadata": {
        "id": "_Jsy6yzjZdFi"
      },
      "execution_count": 8,
      "outputs": []
    },
    {
      "cell_type": "code",
      "source": [
        "data['no_of_words'] = data.description.apply(lambda x : len(str(x).split()))"
      ],
      "metadata": {
        "id": "W-Q8MYb9ZfbQ"
      },
      "execution_count": 9,
      "outputs": []
    },
    {
      "cell_type": "code",
      "source": [
        "bins=[0,50,75, np.inf]\n",
        "data['bins']=pd.cut(data.no_of_words, bins=[0,100,300,500,800, np.inf],\n",
        "                    labels=['0-100', '100-200', '200-500','500-800' ,'>800'])\n"
      ],
      "metadata": {
        "id": "4ThiUfpqZfRX"
      },
      "execution_count": 10,
      "outputs": []
    },
    {
      "cell_type": "code",
      "source": [
        "words_distribution = data.groupby('bins').size().reset_index(). rename(columns={0:'word_counts'})"
      ],
      "metadata": {
        "id": "w5wJqFM-Zk8Z"
      },
      "execution_count": 11,
      "outputs": []
    },
    {
      "cell_type": "code",
      "source": [
        "sns.barplot(x='bins', y='word_counts', data=words_distribution).set_title (\"Word distribution per bin\")"
      ],
      "metadata": {
        "colab": {
          "base_uri": "https://localhost:8080/",
          "height": 489
        },
        "id": "kwgeuCafZmR0",
        "outputId": "7c9adea4-0ebc-49eb-eee9-8c07bbe7b2f7"
      },
      "execution_count": 12,
      "outputs": [
        {
          "output_type": "execute_result",
          "data": {
            "text/plain": [
              "Text(0.5, 1.0, 'Word distribution per bin')"
            ]
          },
          "metadata": {},
          "execution_count": 12
        },
        {
          "output_type": "display_data",
          "data": {
            "text/plain": [
              "<Figure size 640x480 with 1 Axes>"
            ],
            "image/png": "[encoded data removed]"
          },
          "metadata": {}
        }
      ]
    },
    {
      "cell_type": "code",
      "source": [
        "# Number of missing values in each column\n",
        "missing = pd.DataFrame(data.isnull().sum()).rename(columns = {0:'missing'})"
      ],
      "metadata": {
        "id": "xEfwrdeDZscD"
      },
      "execution_count": 13,
      "outputs": []
    },
    {
      "cell_type": "code",
      "source": [
        "# Create a percentage of missing values\n",
        "missing['percent'] = missing['missing'] / len(data)"
      ],
      "metadata": {
        "id": "6UsOy2nLZsYd"
      },
      "execution_count": 14,
      "outputs": []
    },
    {
      "cell_type": "code",
      "source": [
        "# sorting the values in desending order to see highest count on the top\n",
        "missing.sort_values('percent', ascending = False)"
      ],
      "metadata": {
        "colab": {
          "base_uri": "https://localhost:8080/",
          "height": 607
        },
        "id": "jmV8OJKdZsNx",
        "outputId": "de95d5dd-2199-461a-e2bf-831ce34ed4e4"
      },
      "execution_count": 15,
      "outputs": [
        {
          "output_type": "execute_result",
          "data": {
            "text/plain": [
              "                         missing  percent\n",
              "brand                       5864  0.29320\n",
              "retail_price                  78  0.00390\n",
              "discounted_price              78  0.00390\n",
              "product_specifications        14  0.00070\n",
              "image                          3  0.00015\n",
              "length                         2  0.00010\n",
              "description                    2  0.00010\n",
              "uniq_id                        0  0.00000\n",
              "product_rating                 0  0.00000\n",
              "no_of_words                    0  0.00000\n",
              "overall_rating                 0  0.00000\n",
              "is_FK_Advantage_product        0  0.00000\n",
              "crawl_timestamp                0  0.00000\n",
              "pid                            0  0.00000\n",
              "product_category_tree          0  0.00000\n",
              "product_name                   0  0.00000\n",
              "product_url                    0  0.00000\n",
              "bins                           0  0.00000"
            ],
            "text/html": [
              "\n",
              "  <div id=\"df-4d0b21f1-3b52-478d-8b41-23cb16f054ce\" class=\"colab-df-container\">\n",
              "    <div>\n",
              "<style scoped>\n",
              "    .dataframe tbody tr th:only-of-type {\n",
              "        vertical-align: middle;\n",
              "    }\n",
              "\n",
              "    .dataframe tbody tr th {\n",
              "        vertical-align: top;\n",
              "    }\n",
              "\n",
              "    .dataframe thead th {\n",
              "        text-align: right;\n",
              "    }\n",
              "</style>\n",
              "<table border=\"1\" class=\"dataframe\">\n",
              "  <thead>\n",
              "    <tr style=\"text-align: right;\">\n",
              "      <th></th>\n",
              "      <th>missing</th>\n",
              "      <th>percent</th>\n",
              "    </tr>\n",
              "  </thead>\n",
              "  <tbody>\n",
              "    <tr>\n",
              "      <th>brand</th>\n",
              "      <td>5864</td>\n",
              "      <td>0.29320</td>\n",
              "    </tr>\n",
              "    <tr>\n",
              "      <th>retail_price</th>\n",
              "      <td>78</td>\n",
              "      <td>0.00390</td>\n",
              "    </tr>\n",
              "    <tr>\n",
              "      <th>discounted_price</th>\n",
              "      <td>78</td>\n",
              "      <td>0.00390</td>\n",
              "    </tr>\n",
              "    <tr>\n",
              "      <th>product_specifications</th>\n",
              "      <td>14</td>\n",
              "      <td>0.00070</td>\n",
              "    </tr>\n",
              "    <tr>\n",
              "      <th>image</th>\n",
              "      <td>3</td>\n",
              "      <td>0.00015</td>\n",
              "    </tr>\n",
              "    <tr>\n",
              "      <th>length</th>\n",
              "      <td>2</td>\n",
              "      <td>0.00010</td>\n",
              "    </tr>\n",
              "    <tr>\n",
              "      <th>description</th>\n",
              "      <td>2</td>\n",
              "      <td>0.00010</td>\n",
              "    </tr>\n",
              "    <tr>\n",
              "      <th>uniq_id</th>\n",
              "      <td>0</td>\n",
              "      <td>0.00000</td>\n",
              "    </tr>\n",
              "    <tr>\n",
              "      <th>product_rating</th>\n",
              "      <td>0</td>\n",
              "      <td>0.00000</td>\n",
              "    </tr>\n",
              "    <tr>\n",
              "      <th>no_of_words</th>\n",
              "      <td>0</td>\n",
              "      <td>0.00000</td>\n",
              "    </tr>\n",
              "    <tr>\n",
              "      <th>overall_rating</th>\n",
              "      <td>0</td>\n",
              "      <td>0.00000</td>\n",
              "    </tr>\n",
              "    <tr>\n",
              "      <th>is_FK_Advantage_product</th>\n",
              "      <td>0</td>\n",
              "      <td>0.00000</td>\n",
              "    </tr>\n",
              "    <tr>\n",
              "      <th>crawl_timestamp</th>\n",
              "      <td>0</td>\n",
              "      <td>0.00000</td>\n",
              "    </tr>\n",
              "    <tr>\n",
              "      <th>pid</th>\n",
              "      <td>0</td>\n",
              "      <td>0.00000</td>\n",
              "    </tr>\n",
              "    <tr>\n",
              "      <th>product_category_tree</th>\n",
              "      <td>0</td>\n",
              "      <td>0.00000</td>\n",
              "    </tr>\n",
              "    <tr>\n",
              "      <th>product_name</th>\n",
              "      <td>0</td>\n",
              "      <td>0.00000</td>\n",
              "    </tr>\n",
              "    <tr>\n",
              "      <th>product_url</th>\n",
              "      <td>0</td>\n",
              "      <td>0.00000</td>\n",
              "    </tr>\n",
              "    <tr>\n",
              "      <th>bins</th>\n",
              "      <td>0</td>\n",
              "      <td>0.00000</td>\n",
              "    </tr>\n",
              "  </tbody>\n",
              "</table>\n",
              "</div>\n",
              "    <div class=\"colab-df-buttons\">\n",
              "\n",
              "  <div class=\"colab-df-container\">\n",
              "    <button class=\"colab-df-convert\" onclick=\"convertToInteractive('df-4d0b21f1-3b52-478d-8b41-23cb16f054ce')\"\n",
              "            title=\"Convert this dataframe to an interactive table.\"\n",
              "            style=\"display:none;\">\n",
              "\n",
              "  <svg xmlns=\"http://www.w3.org/2000/svg\" height=\"24px\" viewBox=\"0 -960 960 960\">\n",
              "    <path d=\"M120-120v-720h720v720H120Zm60-500h600v-160H180v160Zm220 220h160v-160H400v160Zm0 220h160v-160H400v160ZM180-400h160v-160H180v160Zm440 0h160v-160H620v160ZM180-180h160v-160H180v160Zm440 0h160v-160H620v160Z\"/>\n",
              "  </svg>\n",
              "    </button>\n",
              "\n",
              "  <style>\n",
              "    .colab-df-container {\n",
              "      display:flex;\n",
              "      gap: 12px;\n",
              "    }\n",
              "\n",
              "    .colab-df-convert {\n",
              "      background-color: #E8F0FE;\n",
              "      border: none;\n",
              "      border-radius: 50%;\n",
              "      cursor: pointer;\n",
              "      display: none;\n",
              "      fill: #1967D2;\n",
              "      height: 32px;\n",
              "      padding: 0 0 0 0;\n",
              "      width: 32px;\n",
              "    }\n",
              "\n",
              "    .colab-df-convert:hover {\n",
              "      background-color: #E2EBFA;\n",
              "      box-shadow: 0px 1px 2px rgba(60, 64, 67, 0.3), 0px 1px 3px 1px rgba(60, 64, 67, 0.15);\n",
              "      fill: #174EA6;\n",
              "    }\n",
              "\n",
              "    .colab-df-buttons div {\n",
              "      margin-bottom: 4px;\n",
              "    }\n",
              "\n",
              "    [theme=dark] .colab-df-convert {\n",
              "      background-color: #3B4455;\n",
              "      fill: #D2E3FC;\n",
              "    }\n",
              "\n",
              "    [theme=dark] .colab-df-convert:hover {\n",
              "      background-color: #434B5C;\n",
              "      box-shadow: 0px 1px 3px 1px rgba(0, 0, 0, 0.15);\n",
              "      filter: drop-shadow(0px 1px 2px rgba(0, 0, 0, 0.3));\n",
              "      fill: #FFFFFF;\n",
              "    }\n",
              "  </style>\n",
              "\n",
              "    <script>\n",
              "      const buttonEl =\n",
              "        document.querySelector('#df-4d0b21f1-3b52-478d-8b41-23cb16f054ce button.colab-df-convert');\n",
              "      buttonEl.style.display =\n",
              "        google.colab.kernel.accessAllowed ? 'block' : 'none';\n",
              "\n",
              "      async function convertToInteractive(key) {\n",
              "        const element = document.querySelector('#df-4d0b21f1-3b52-478d-8b41-23cb16f054ce');\n",
              "        const dataTable =\n",
              "          await google.colab.kernel.invokeFunction('convertToInteractive',\n",
              "                                                    [key], {});\n",
              "        if (!dataTable) return;\n",
              "\n",
              "        const docLinkHtml = 'Like what you see? Visit the ' +\n",
              "          '<a target=\"_blank\" href=https://colab.research.google.com/notebooks/data_table.ipynb>data table notebook</a>'\n",
              "          + ' to learn more about interactive tables.';\n",
              "        element.innerHTML = '';\n",
              "        dataTable['output_type'] = 'display_data';\n",
              "        await google.colab.output.renderOutput(dataTable, element);\n",
              "        const docLink = document.createElement('div');\n",
              "        docLink.innerHTML = docLinkHtml;\n",
              "        element.appendChild(docLink);\n",
              "      }\n",
              "    </script>\n",
              "  </div>\n",
              "\n",
              "\n",
              "<div id=\"df-06966ddb-6d65-4df1-a125-9e2a82289619\">\n",
              "  <button class=\"colab-df-quickchart\" onclick=\"quickchart('df-06966ddb-6d65-4df1-a125-9e2a82289619')\"\n",
              "            title=\"Suggest charts\"\n",
              "            style=\"display:none;\">\n",
              "\n",
              "<svg xmlns=\"http://www.w3.org/2000/svg\" height=\"24px\"viewBox=\"0 0 24 24\"\n",
              "     width=\"24px\">\n",
              "    <g>\n",
              "        <path d=\"M19 3H5c-1.1 0-2 .9-2 2v14c0 1.1.9 2 2 2h14c1.1 0 2-.9 2-2V5c0-1.1-.9-2-2-2zM9 17H7v-7h2v7zm4 0h-2V7h2v10zm4 0h-2v-4h2v4z\"/>\n",
              "    </g>\n",
              "</svg>\n",
              "  </button>\n",
              "\n",
              "<style>\n",
              "  .colab-df-quickchart {\n",
              "      --bg-color: #E8F0FE;\n",
              "      --fill-color: #1967D2;\n",
              "      --hover-bg-color: #E2EBFA;\n",
              "      --hover-fill-color: #174EA6;\n",
              "      --disabled-fill-color: #AAA;\n",
              "      --disabled-bg-color: #DDD;\n",
              "  }\n",
              "\n",
              "  [theme=dark] .colab-df-quickchart {\n",
              "      --bg-color: #3B4455;\n",
              "      --fill-color: #D2E3FC;\n",
              "      --hover-bg-color: #434B5C;\n",
              "      --hover-fill-color: #FFFFFF;\n",
              "      --disabled-bg-color: #3B4455;\n",
              "      --disabled-fill-color: #666;\n",
              "  }\n",
              "\n",
              "  .colab-df-quickchart {\n",
              "    background-color: var(--bg-color);\n",
              "    border: none;\n",
              "    border-radius: 50%;\n",
              "    cursor: pointer;\n",
              "    display: none;\n",
              "    fill: var(--fill-color);\n",
              "    height: 32px;\n",
              "    padding: 0;\n",
              "    width: 32px;\n",
              "  }\n",
              "\n",
              "  .colab-df-quickchart:hover {\n",
              "    background-color: var(--hover-bg-color);\n",
              "    box-shadow: 0 1px 2px rgba(60, 64, 67, 0.3), 0 1px 3px 1px rgba(60, 64, 67, 0.15);\n",
              "    fill: var(--button-hover-fill-color);\n",
              "  }\n",
              "\n",
              "  .colab-df-quickchart-complete:disabled,\n",
              "  .colab-df-quickchart-complete:disabled:hover {\n",
              "    background-color: var(--disabled-bg-color);\n",
              "    fill: var(--disabled-fill-color);\n",
              "    box-shadow: none;\n",
              "  }\n",
              "\n",
              "  .colab-df-spinner {\n",
              "    border: 2px solid var(--fill-color);\n",
              "    border-color: transparent;\n",
              "    border-bottom-color: var(--fill-color);\n",
              "    animation:\n",
              "      spin 1s steps(1) infinite;\n",
              "  }\n",
              "\n",
              "  @keyframes spin {\n",
              "    0% {\n",
              "      border-color: transparent;\n",
              "      border-bottom-color: var(--fill-color);\n",
              "      border-left-color: var(--fill-color);\n",
              "    }\n",
              "    20% {\n",
              "      border-color: transparent;\n",
              "      border-left-color: var(--fill-color);\n",
              "      border-top-color: var(--fill-color);\n",
              "    }\n",
              "    30% {\n",
              "      border-color: transparent;\n",
              "      border-left-color: var(--fill-color);\n",
              "      border-top-color: var(--fill-color);\n",
              "      border-right-color: var(--fill-color);\n",
              "    }\n",
              "    40% {\n",
              "      border-color: transparent;\n",
              "      border-right-color: var(--fill-color);\n",
              "      border-top-color: var(--fill-color);\n",
              "    }\n",
              "    60% {\n",
              "      border-color: transparent;\n",
              "      border-right-color: var(--fill-color);\n",
              "    }\n",
              "    80% {\n",
              "      border-color: transparent;\n",
              "      border-right-color: var(--fill-color);\n",
              "      border-bottom-color: var(--fill-color);\n",
              "    }\n",
              "    90% {\n",
              "      border-color: transparent;\n",
              "      border-bottom-color: var(--fill-color);\n",
              "    }\n",
              "  }\n",
              "</style>\n",
              "\n",
              "  <script>\n",
              "    async function quickchart(key) {\n",
              "      const quickchartButtonEl =\n",
              "        document.querySelector('#' + key + ' button');\n",
              "      quickchartButtonEl.disabled = true;  // To prevent multiple clicks.\n",
              "      quickchartButtonEl.classList.add('colab-df-spinner');\n",
              "      try {\n",
              "        const charts = await google.colab.kernel.invokeFunction(\n",
              "            'suggestCharts', [key], {});\n",
              "      } catch (error) {\n",
              "        console.error('Error during call to suggestCharts:', error);\n",
              "      }\n",
              "      quickchartButtonEl.classList.remove('colab-df-spinner');\n",
              "      quickchartButtonEl.classList.add('colab-df-quickchart-complete');\n",
              "    }\n",
              "    (() => {\n",
              "      let quickchartButtonEl =\n",
              "        document.querySelector('#df-06966ddb-6d65-4df1-a125-9e2a82289619 button');\n",
              "      quickchartButtonEl.style.display =\n",
              "        google.colab.kernel.accessAllowed ? 'block' : 'none';\n",
              "    })();\n",
              "  </script>\n",
              "</div>\n",
              "\n",
              "    </div>\n",
              "  </div>\n"
            ],
            "application/vnd.google.colaboratory.intrinsic+json": {
              "type": "dataframe",
              "summary": "{\n  \"name\": \"missing\",\n  \"rows\": 18,\n  \"fields\": [\n    {\n      \"column\": \"missing\",\n      \"properties\": {\n        \"dtype\": \"number\",\n        \"std\": 1379,\n        \"min\": 0,\n        \"max\": 5864,\n        \"num_unique_values\": 6,\n        \"samples\": [\n          5864,\n          78,\n          0\n        ],\n        \"semantic_type\": \"\",\n        \"description\": \"\"\n      }\n    },\n    {\n      \"column\": \"percent\",\n      \"properties\": {\n        \"dtype\": \"number\",\n        \"std\": 0.06899643029744981,\n        \"min\": 0.0,\n        \"max\": 0.2932,\n        \"num_unique_values\": 6,\n        \"samples\": [\n          0.2932,\n          0.0039,\n          0.0\n        ],\n        \"semantic_type\": \"\",\n        \"description\": \"\"\n      }\n    }\n  ]\n}"
            }
          },
          "metadata": {},
          "execution_count": 15
        }
      ]
    },
    {
      "cell_type": "code",
      "source": [
        "data['description'] = data['description'].astype(str)\n",
        "data['description'] = data['description'].apply(lambda x: ''.join([char for char in x if char not in string.punctuation]))\n",
        "# Replace whitespace between terms with a single space\n",
        "data['description'] = data['description'].str.replace(r'\\s+', ' ')\n",
        "# Remove leading and trailing whitespace\n",
        "data['description'] = data['description'].str.replace(r'^\\s+|\\s+?$', '')\n",
        "# converting to lower case\n",
        "data['description'] = data['description'].str.lower()"
      ],
      "metadata": {
        "id": "KYx8PaqjZ3Sn"
      },
      "execution_count": 20,
      "outputs": []
    },
    {
      "source": [
        "data['description'] = data['description'].astype(str)\n",
        "data['description'] = data['description'].apply(lambda x: ''.join([char for char in x if char not in string.punctuation]))"
      ],
      "cell_type": "code",
      "metadata": {
        "id": "ee2FTyaWazMS"
      },
      "execution_count": 21,
      "outputs": []
    },
    {
      "cell_type": "code",
      "source": [
        "data['description'].head()"
      ],
      "metadata": {
        "colab": {
          "base_uri": "https://localhost:8080/"
        },
        "id": "3OGpX2NOZ3Ej",
        "outputId": "8b1e4a80-7b7b-4d19-de0f-4ccb1e715104"
      },
      "execution_count": 22,
      "outputs": [
        {
          "output_type": "execute_result",
          "data": {
            "text/plain": [
              "0    key features of alisha solid womens cycling sh...\n",
              "1    fabhomedecor fabric double sofa bed finish col...\n",
              "2    key features of aw bellies sandals wedges heel...\n",
              "3    key features of alisha solid womens cycling sh...\n",
              "4    specifications of sicons all purpose arnica do...\n",
              "Name: description, dtype: object"
            ]
          },
          "metadata": {},
          "execution_count": 22
        }
      ]
    },
    {
      "cell_type": "code",
      "source": [
        "import nltk\n",
        "nltk.download('stopwords')\n",
        "# Removing Stop words\n",
        "stop = set(stopwords.words('english'))\n",
        "\n",
        "# Function to remove stopwords\n",
        "def remove_stopwords(text):\n",
        "    words = text.split()\n",
        "    filtered_words = [word for word in words if word.lower() not in stop]\n",
        "    return ' '.join(filtered_words)\n",
        "\n",
        "# Apply the function to remove stopwords\n",
        "data['description'] = data['description'].apply(remove_stopwords)"
      ],
      "metadata": {
        "colab": {
          "base_uri": "https://localhost:8080/"
        },
        "id": "tikwXecXbMHS",
        "outputId": "64fd9a18-102c-4432-dafd-0cebf82390b1"
      },
      "execution_count": 30,
      "outputs": [
        {
          "output_type": "stream",
          "name": "stderr",
          "text": [
            "[nltk_data] Downloading package stopwords to /root/nltk_data...\n",
            "[nltk_data]   Package stopwords is already up-to-date!\n"
          ]
        }
      ]
    },
    {
      "cell_type": "code",
      "source": [
        "# Removing single characters\n",
        "data['description'] = data['description'].str.replace(r'\\s+', ' ')\n",
        "data['description'] = data['description'].apply(lambda x: \" \".join(x for x in str(x).split() if len(x)>1))"
      ],
      "metadata": {
        "id": "CBZ_rRwxbakV"
      },
      "execution_count": 31,
      "outputs": []
    },
    {
      "cell_type": "code",
      "source": [
        "# Removing domain related stop words from description\n",
        "specific_stop_words = [ \"rs\",\"flipkart\",\"flipkartcom\",\"buy\",\"com\",\"free\",\"day\",\"cash\",\"re placement\",\"guarantee\",\n",
        "                       \"genuine\",\"key\",\"feature\",\"delivery\",\"products\",\"pro duct\",\"shipping\",\n",
        "                       \"online\",\"india\",\"shop\"]\n",
        "data['description'] = data['description'].apply(lambda x: \" \".join(x for x in str(x).split() if x not in specific_stop_words))"
      ],
      "metadata": {
        "id": "1yxy72AZbeDf"
      },
      "execution_count": 35,
      "outputs": []
    },
    {
      "cell_type": "code",
      "source": [
        "data['description'].head()"
      ],
      "metadata": {
        "colab": {
          "base_uri": "https://localhost:8080/"
        },
        "id": "Y0Oxe0BjbiIs",
        "outputId": "67d56a13-adfa-464c-9c17-b833580bebf2"
      },
      "execution_count": 36,
      "outputs": [
        {
          "output_type": "execute_result",
          "data": {
            "text/plain": [
              "0    features alisha solid womens cycling shorts co...\n",
              "1    fabhomedecor fabric double sofa bed finish col...\n",
              "2    features aw bellies sandals wedges heel casual...\n",
              "3    features alisha solid womens cycling shorts co...\n",
              "4    specifications sicons purpose arnica dog shamp...\n",
              "Name: description, dtype: object"
            ]
          },
          "metadata": {},
          "execution_count": 36
        }
      ]
    },
    {
      "cell_type": "code",
      "source": [
        "import nltk\n",
        "nltk.download('punkt')\n",
        "#Let’s also see what are the most occurred words in the corpus and understand the data better.\n",
        "#Top frequent words after removing domain related stop words\n",
        "a = data['description'].str.cat(sep=' ')\n",
        "words = nltk.tokenize.word_tokenize(a)\n",
        "word_dist = nltk.FreqDist(words)\n",
        "word_dist.plot(10,cumulative=False)\n",
        "print(word_dist.most_common(10))"
      ],
      "metadata": {
        "colab": {
          "base_uri": "https://localhost:8080/",
          "height": 594
        },
        "id": "2ot1R-ngbrVP",
        "outputId": "0e1db8f9-4538-498e-8eaa-e2219cc6c57a"
      },
      "execution_count": 37,
      "outputs": [
        {
          "output_type": "stream",
          "name": "stderr",
          "text": [
            "[nltk_data] Downloading package punkt to /root/nltk_data...\n",
            "[nltk_data]   Package punkt is already up-to-date!\n"
          ]
        },
        {
          "output_type": "display_data",
          "data": {
            "text/plain": [
              "<Figure size 640x480 with 1 Axes>"
            ],
            "image/png": "[encoded data removed]"
          },
          "metadata": {}
        },
        {
          "output_type": "stream",
          "name": "stdout",
          "text": [
            "[('womens', 8082), ('replacement', 7884), ('30', 7738), ('features', 7190), ('price', 6696), ('color', 5578), ('details', 5297), ('type', 5248), ('casual', 4916), ('material', 4849)]\n"
          ]
        }
      ]
    },
    {
      "cell_type": "code",
      "source": [
        "#Content-based Recommendation System\n",
        "#Now that you know about content-based recommender systems, let’s start implementing one.\n",
        "#For content-based systems, let’s use the TF-IDF approach.\n",
        "#text cleaning\n",
        "data['description'] = data['description'].fillna('')\n",
        "#define the vectorizer\n",
        "T_vec =  TfidfVectorizer(stop_words='english')\n",
        "# get the vectors\n",
        "T_vec_matrix = T_vec.fit_transform(data['description'])\n",
        "#shape\n",
        "T_vec_matrix.shape"
      ],
      "metadata": {
        "colab": {
          "base_uri": "https://localhost:8080/"
        },
        "id": "5nLpN2Au1tLP",
        "outputId": "9eda42da-74f3-44c3-e9a2-e3c8e4b832eb"
      },
      "execution_count": 38,
      "outputs": [
        {
          "output_type": "execute_result",
          "data": {
            "text/plain": [
              "(20000, 32510)"
            ]
          },
          "metadata": {},
          "execution_count": 38
        }
      ]
    },
    {
      "cell_type": "code",
      "source": [
        "# Reversing the map of indices and product\n",
        "product_index = pd.Series(data.index, index=data['product_name']).drop_duplicates()\n",
        "product_index"
      ],
      "metadata": {
        "colab": {
          "base_uri": "https://localhost:8080/"
        },
        "id": "2ZbhgSq31_2U",
        "outputId": "0723c51b-5c67-4c9f-bd8f-03c487e68854"
      },
      "execution_count": 39,
      "outputs": [
        {
          "output_type": "execute_result",
          "data": {
            "text/plain": [
              "product_name\n",
              "Alisha Solid Women's Cycling Shorts            0\n",
              "FabHomeDecor Fabric Double Sofa Bed            1\n",
              "AW Bellies                                     2\n",
              "Alisha Solid Women's Cycling Shorts            3\n",
              "Sicons All Purpose Arnica Dog Shampoo          4\n",
              "                                           ...  \n",
              "WallDesign Small Vinyl Sticker             19995\n",
              "Wallmantra Large Vinyl Stickers Sticker    19996\n",
              "Elite Collection Medium Acrylic Sticker    19997\n",
              "Elite Collection Medium Acrylic Sticker    19998\n",
              "Elite Collection Medium Acrylic Sticker    19999\n",
              "Length: 20000, dtype: int64"
            ]
          },
          "metadata": {},
          "execution_count": 39
        }
      ]
    }
  ]
}